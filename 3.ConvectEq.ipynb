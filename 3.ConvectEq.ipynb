{
 "cells": [
  {
   "cell_type": "markdown",
   "metadata": {},
   "source": [
    "$$ Уравнение \\: переноса $$\n",
    "$$ \\frac{\\partial u}{\\partial t} \\: + \\: a\\frac{\\partial u}{\\partial t} \\, = \\, f(x, \\, t), \\quad 0 < x \\le 1, \\quad 0 < t \\le 1, \\quad a \\: > \\: 0$$\n",
    "$$ $$\n",
    "$$ u(x,\\,0) \\, = \\, \\varphi(x), \\: x \\, \\in \\, [0, \\, 1],$$ \n",
    "$$ u(0,\\,t) \\, = \\, g_1(t), \\: t \\, \\in  \\, [0, \\, 1] ; $$\n",
    "$$ $$\n",
    "$$ При \\: a \\, = \\, 0.26 \\: точное \\: решение:$$\n",
    "$$ u(x, \\, t) \\, = \\, \\cos(\\pi x) \\, - \\, \\sin(2\\pi t)/2 \\, + \\, 2\\pi x \\, - \\, 3.5t.$$\n",
    "$$ $$\n",
    "$$ Неявная \\: схема \\:  бегущего \\: счёта$$\n",
    "$$ $$\n",
    "$$ \\frac{U^{n+1}_j - U^n_j}{\\tau} \\, + \\, a\\frac{U^{n+1}_j \\, - \\, U^{n+1}_{j-1} }{h} \\, = \\, f^{n+1}_j,$$\n",
    "$$ j \\, = \\, \\overline{1, \\, M} ; \\: U_0^{n+1} \\, = \\, g_1^{n+1}.$$"
   ]
  },
  {
   "cell_type": "code",
   "execution_count": 1,
   "metadata": {
    "collapsed": true
   },
   "outputs": [],
   "source": [
    "import numpy as np    \n",
    "import matplotlib.pyplot as plt    \n",
    "from mpl_toolkits.mplot3d import axes3d\n",
    "from matplotlib import cm    \n",
    "%matplotlib notebook    "
   ]
  },
  {
   "cell_type": "code",
   "execution_count": 2,
   "metadata": {
    "collapsed": true
   },
   "outputs": [],
   "source": [
    "a = 0.26\n",
    "def u(x,t):  return np.cos(np.pi*x) - np.sin(2*np.pi*t)/2 + 2*np.pi*x - 3.5*t\n",
    "def fi(x): return np.cos(np.pi*x) + 2*np.pi*x\n",
    "def g_1(t): return 1 - np.sin(2*np.pi*t)/2 - 3.5*t\n",
    "def f(x,t): return -np.pi*(np.cos(2*np.pi*t) + a*(np.sin(np.pi*x) - 2)) - 3.5"
   ]
  },
  {
   "cell_type": "code",
   "execution_count": 3,
   "metadata": {
    "collapsed": true
   },
   "outputs": [],
   "source": [
    "def mygreed(Nx, Nt, x_0=0, x_N=1, t_0=0, t_N=1):\n",
    "    return np.linspace(x_0,x_N,Nx), np.linspace(t_0,t_N,Nt)\n",
    "\n",
    "def plot_3d(xm,tm,um,title = '',x_lable = 'x',y_lable = 't',z_lable = 'Z'):\n",
    "    ax = axes3d.Axes3D(plt.figure())\n",
    "    ax.set_xlabel(x_lable)\n",
    "    ax.set_ylabel(y_lable)\n",
    "    ax.set_zlabel(z_lable)\n",
    "    ax.plot_surface(xm, tm , um, rstride=25, cstride=25)\n",
    "    plt.show()\n",
    "def plot_3d_color(xm,tm,um,title = '',x_lable = 'x',y_lable = 't',z_lable = 'Z'):\n",
    "    ax = axes3d.Axes3D(plt.figure())\n",
    "    ax.set_xlabel(x_lable)\n",
    "    ax.set_ylabel(y_lable)\n",
    "    ax.set_zlabel(z_lable)\n",
    "    ax.plot_surface(xm, tm , um, rstride=5, cstride=5,cmap = cm.jet )\n",
    "    plt.show()    \n"
   ]
  },
  {
   "cell_type": "code",
   "execution_count": 5,
   "metadata": {
    "collapsed": true
   },
   "outputs": [],
   "source": [
    "def solve(dx, dt, f, fi, g_1, a):\n",
    "    Nx, Nt = int(1/dx), int(1/dt)\n",
    "    x, t = mygreed(Nx, Nt) \n",
    "    U = np.zeros(shape = (Nt,Nx))\n",
    "    U[0,:], U[:,0] = fi(x[:]), g_1(t[:])  \n",
    "    \n",
    "    q = dx + a*dt\n",
    "    for j in range(1,Nx):\n",
    "        g = f(x[j],t[:])\n",
    "        for n in range(0,Nt-1):\n",
    "            U[n+1,j] = (dx*U[n,j] + dt*(a*U[n+1,j-1] + dx*g[n+1]))/q \n",
    "                        \n",
    "    return U.T"
   ]
  },
  {
   "cell_type": "code",
   "execution_count": 6,
   "metadata": {
    "collapsed": true
   },
   "outputs": [],
   "source": [
    "dx = 1e-2\n",
    "dt = 1e-1\n",
    "Nx, Nt = int(1/dx), int(1/dt)\n",
    "x,t = mygreed(Nx,Nt)\n",
    "xm, tm = np.meshgrid(x, t)\n",
    "U = solve(dx, dt, f, fi, g_1, a)\n",
    "u_exact = u(xm,tm)"
   ]
  },
  {
   "cell_type": "code",
   "execution_count": 7,
   "metadata": {},
   "outputs": [
    {
     "ename": "ValueError",
     "evalue": "operands could not be broadcast together with shapes (100,10) (10,100) ",
     "output_type": "error",
     "traceback": [
      "\u001b[1;31m---------------------------------------------------------------------------\u001b[0m",
      "\u001b[1;31mValueError\u001b[0m                                Traceback (most recent call last)",
      "\u001b[1;32m<ipython-input-7-6480b043337d>\u001b[0m in \u001b[0;36m<module>\u001b[1;34m()\u001b[0m\n\u001b[1;32m----> 1\u001b[1;33m \u001b[0merr\u001b[0m\u001b[1;33m=\u001b[0m\u001b[0mabs\u001b[0m\u001b[1;33m(\u001b[0m\u001b[0mU\u001b[0m \u001b[1;33m-\u001b[0m \u001b[0mu_exact\u001b[0m\u001b[1;33m)\u001b[0m\u001b[1;33m\u001b[0m\u001b[0m\n\u001b[0m\u001b[0;32m      2\u001b[0m \u001b[0mprint\u001b[0m\u001b[1;33m(\u001b[0m\u001b[1;34m\"Максимальная погрешность:\"\u001b[0m\u001b[1;33m,\u001b[0m\u001b[0merr\u001b[0m\u001b[1;33m.\u001b[0m\u001b[0mmax\u001b[0m\u001b[1;33m(\u001b[0m\u001b[1;33m)\u001b[0m\u001b[1;33m)\u001b[0m\u001b[1;33m\u001b[0m\u001b[0m\n\u001b[0;32m      3\u001b[0m \u001b[0mprint\u001b[0m\u001b[1;33m(\u001b[0m\u001b[1;34m\"Теоретический порядок погрешности O(dx + dt):\"\u001b[0m\u001b[1;33m,\u001b[0m \u001b[0mdx\u001b[0m \u001b[1;33m+\u001b[0m \u001b[0mdt\u001b[0m\u001b[1;33m)\u001b[0m\u001b[1;33m\u001b[0m\u001b[0m\n\u001b[0;32m      4\u001b[0m \u001b[0mplot_3d\u001b[0m\u001b[1;33m(\u001b[0m\u001b[0mxm\u001b[0m\u001b[1;33m,\u001b[0m\u001b[0mtm\u001b[0m\u001b[1;33m,\u001b[0m\u001b[0merr\u001b[0m\u001b[1;33m,\u001b[0m\u001b[0mz_lable\u001b[0m \u001b[1;33m=\u001b[0m \u001b[1;34m'Error'\u001b[0m\u001b[1;33m)\u001b[0m\u001b[1;33m\u001b[0m\u001b[0m\n",
      "\u001b[1;31mValueError\u001b[0m: operands could not be broadcast together with shapes (100,10) (10,100) "
     ]
    }
   ],
   "source": [
    "err=abs(U - u_exact)\n",
    "print(\"Максимальная погрешность:\",err.max())\n",
    "print(\"Теоретический порядок погрешности O(dx + dt):\", dx + dt)\n",
    "plot_3d(xm,tm,err,z_lable = 'Error')"
   ]
  },
  {
   "cell_type": "code",
   "execution_count": null,
   "metadata": {},
   "outputs": [],
   "source": [
    "plot_3d_color(xm,tm,u_exact,z_lable = 'Exact solution')\n",
    "plot_3d_color(xm,tm,U,z_lable = 'Exact solution')"
   ]
  },
  {
   "cell_type": "code",
   "execution_count": null,
   "metadata": {
    "collapsed": true
   },
   "outputs": [],
   "source": []
  }
 ],
 "metadata": {
  "kernelspec": {
   "display_name": "Python 3",
   "language": "python",
   "name": "python3"
  },
  "language_info": {
   "codemirror_mode": {
    "name": "ipython",
    "version": 3
   },
   "file_extension": ".py",
   "mimetype": "text/x-python",
   "name": "python",
   "nbconvert_exporter": "python",
   "pygments_lexer": "ipython3",
   "version": "3.6.1"
  }
 },
 "nbformat": 4,
 "nbformat_minor": 2
}
